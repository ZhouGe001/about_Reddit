{
 "cells": [
  {
   "cell_type": "code",
   "execution_count": null,
   "metadata": {},
   "outputs": [],
   "source": [
    "import praw\n",
    "import pytz\n",
    "import pandas as pd\n",
    "from datetime import datetime\n",
    "\n",
    "client_id='rE_BWSQJPWyu5W7tP1keYw'\n",
    "client_secret='Cd9uxRBwh5LnNsfxWdyGGIJJAX9Z9g'\n",
    "user_agent='windows:aPigeon:1.0 (by /u/AP1g3on)'\n",
    "\n",
    "# 创建 Reddit 实例\n",
    "reddit = praw.Reddit(\n",
    "    client_id=client_id,\n",
    "    client_secret=client_secret,\n",
    "    user_agent=user_agent\n",
    ")"
   ]
  },
  {
   "cell_type": "code",
   "execution_count": null,
   "metadata": {},
   "outputs": [],
   "source": [
    "subreddit = reddit.subreddit('EufyCam')\n",
    "posts_list = []\n",
    "\n",
    "for submission in subreddit.new(limit=None):\n",
    "    post_dict = {\n",
    "        'Title': submission.title,\n",
    "        'Score': submission.score,\n",
    "        'Post_ID': submission.id,\n",
    "        'URL': submission.url,\n",
    "        'Text': submission.selftext,\n",
    "        'Comments': submission.num_comments,\n",
    "        'Timestamp': datetime.fromtimestamp(submission.created_utc, tz=pytz.UTC).strftime('%Y-%m-%d %H:%M:%S')\n",
    "    }\n",
    "    posts_list.append(post_dict)\n",
    "\n",
    "df_posts = pd.DataFrame(columns=['Title', 'Score', 'Post_ID', 'URL', 'Text', 'Comments', 'Timestamp'])\n",
    "df_posts = pd.DataFrame(posts_list)\n",
    "df_posts['Text'] = df_posts['Text'].apply(lambda x: str(x).replace('\\n', ' '))\n",
    "\n",
    "post_id_list = df_posts['Post_ID'].tolist()\n",
    "print(post_id_list)"
   ]
  },
  {
   "cell_type": "code",
   "execution_count": null,
   "metadata": {},
   "outputs": [],
   "source": [
    "# 递归函数来处理评论和子评论\n",
    "def process_comment(comment, parent_id=None, comments_list=None, post_id=None):\n",
    "    if comments_list is None:\n",
    "        comments_list = []\n",
    "\n",
    "    dict = {\n",
    "        'Post_ID': post_id,\n",
    "        'Comment_ID': comment.id,\n",
    "        'Parent_ID': parent_id,\n",
    "        'Author': comment.author.name if comment.author else 'Deleted',\n",
    "        'comment-Body': comment.body,\n",
    "        'Score': comment.score,\n",
    "        'Created_UTC': comment.created_utc\n",
    "    }\n",
    "    comments_list.append(dict)\n",
    "\n",
    "    # 处理子评论\n",
    "    for reply in comment.replies:\n",
    "        process_comment(reply, parent_id=comment.id, comments_list=comments_list, post_id=post_id)\n",
    "\n",
    "    return comments_list\n",
    "\n",
    "comments_list = []\n",
    "for id in post_id_list:\n",
    "    submission = reddit.submission(id=id)\n",
    "    submission.comments.replace_more(limit=0)  # 移除 \"MoreComments\" 对象\n",
    "    # 处理没有评论的情况\n",
    "    if submission.num_comments == 0:\n",
    "            comments_list.append({'Post_ID':id})\n",
    "    # 遍历顶级评论\n",
    "    for top_level_comment in submission.comments: \n",
    "        comments_list.extend(process_comment(top_level_comment,post_id=id))\n",
    "\n",
    "\n",
    "columns = ['Post_ID', 'Comment_ID', 'Parent_ID', 'Author', 'comment-Body', 'Score', 'Created_UTC']\n",
    "df_comments = pd.DataFrame(columns=columns)\n",
    "df_comments = pd.DataFrame(comments_list)\n",
    "df_comments['comment-Body'] = df_comments['comment-Body'].apply(lambda x: str(x).replace('\\n', ' '))"
   ]
  },
  {
   "cell_type": "code",
   "execution_count": null,
   "metadata": {},
   "outputs": [],
   "source": [
    "# 合并 DataFrame\n",
    "merged_df = pd.merge(df_posts, df_comments, on='Post_ID', how='inner')\n",
    "merged_df.to_csv('all.csv', index=False)"
   ]
  }
 ],
 "metadata": {
  "kernelspec": {
   "display_name": "myenv",
   "language": "python",
   "name": "python3"
  },
  "language_info": {
   "codemirror_mode": {
    "name": "ipython",
    "version": 3
   },
   "file_extension": ".py",
   "mimetype": "text/x-python",
   "name": "python",
   "nbconvert_exporter": "python",
   "pygments_lexer": "ipython3",
   "version": "3.11.9"
  }
 },
 "nbformat": 4,
 "nbformat_minor": 2
}
